{
 "cells": [
  {
   "cell_type": "code",
   "execution_count": 2,
   "metadata": {},
   "outputs": [],
   "source": [
    "import numpy as np"
   ]
  },
  {
   "cell_type": "code",
   "execution_count": 3,
   "metadata": {},
   "outputs": [],
   "source": [
    "np.random.seed(1)"
   ]
  },
  {
   "cell_type": "code",
   "execution_count": 4,
   "metadata": {},
   "outputs": [],
   "source": [
    "def initialize(l1, l2, l3):\n",
    "    wb = {\n",
    "        'w1' : np.random.seed(l2, l1),\n",
    "        'b1' : np.zeros((l2,1)),\n",
    "        'w2' : np.random.seed(l3, l2),\n",
    "        'b2' : np.zeros((l3,1))\n",
    "    }\n",
    "    return wb"
   ]
  },
  {
   "cell_type": "code",
   "execution_count": 9,
   "metadata": {},
   "outputs": [
    {
     "name": "stdout",
     "output_type": "stream",
     "text": [
      "[[ 1.74481176 -0.7612069 ]\n",
      " [ 0.3190391  -0.24937038]\n",
      " [ 1.46210794 -2.06014071]]\n"
     ]
    },
    {
     "data": {
      "text/plain": [
       "array([[ 1.74481176,  0.3190391 ,  1.46210794],\n",
       "       [-0.7612069 , -0.24937038, -2.06014071]])"
      ]
     },
     "execution_count": 9,
     "metadata": {},
     "output_type": "execute_result"
    }
   ],
   "source": [
    "x = np.random.randn(3,2)\n",
    "print(x)\n",
    "x.T"
   ]
  },
  {
   "cell_type": "code",
   "execution_count": 6,
   "metadata": {},
   "outputs": [],
   "source": [
    "def relu(Z):\n",
    "    relu_Z = np.maximum(Z,0)\n",
    "    return relu_Z"
   ]
  },
  {
   "cell_type": "code",
   "execution_count": 7,
   "metadata": {},
   "outputs": [],
   "source": [
    "def sigmoid(Z):\n",
    "    v = 1 / (1 + np.exp(-Z))\n",
    "    return v"
   ]
  },
  {
   "cell_type": "code",
   "execution_count": 11,
   "metadata": {},
   "outputs": [],
   "source": [
    "def forwardPropogation(wb, X):\n",
    "    \n",
    "    Z1 = np.dot(X, wb['w1'].T) + wb['b1']\n",
    "    A1 = sigmoid(Z1)\n",
    "    \n",
    "    Z2 = np.dot(A1, wb['w2'].T) + wb['b2']\n",
    "    y_pred = sigmoid(Z2)\n",
    "    \n",
    "    forward_res = {\n",
    "        'Z1' : Z1,\n",
    "        'A1' : A1,\n",
    "        'Z2' : Z2,\n",
    "        'y_pred' : y_pred\n",
    "    }\n",
    "    return forward_res"
   ]
  },
  {
   "cell_type": "code",
   "execution_count": 12,
   "metadata": {},
   "outputs": [],
   "source": [
    "def backPropogation(X, wb, y_actual):\n",
    "    forward_res = forwardPropagation(X, wb)\n",
    "    Z1 = forward_results['Z1']\n",
    "    A = forward_results['A']\n",
    "    Z2 = forward_results['Z2']\n",
    "    y_pred = forward_results['y_pred']\n",
    "    \n",
    "    no_examples = X.shape[1]\n",
    "    \n",
    "    # loss\n",
    "    L = (1/no_examples) * np.sum(-y_actual * np.log(y_pred) - (1 - y_actual) * np.log(1 - y_pred))\n",
    "    \n",
    "    dLdZ2 = y_pred - y_actual\n",
    "    dLdW2 = (1/no_examples) * np.dot(dLdZ2, A.T)\n",
    "    dLdb2 = (1/no_examples) * np.sum(dLdZ2, axis=1, keepdims=True)\n",
    "    dLdZ1 = np.multiply(np.dot(wb['w2'].T, dlZ2), (1 - np.power(A, 2)))\n",
    "    dLdW1 = (1/no_examples) * np.dot(dLdZ1, X.T)\n",
    "    dLdb1 = (1/no_examples) * np.sum(dLdZ1, axis=1, keepdims=True)\n",
    "    \n",
    "    gradients = {\"dLdW1\": dLdW1,\n",
    "             \"dLdb1\": dLdb1,\n",
    "             \"dLdW2\": dLdW2,\n",
    "             \"dLdb2\": dLdb2}\n",
    "    \n",
    "    return gradients, L"
   ]
  },
  {
   "cell_type": "code",
   "execution_count": null,
   "metadata": {},
   "outputs": [],
   "source": []
  }
 ],
 "metadata": {
  "kernelspec": {
   "display_name": "Python 3",
   "language": "python",
   "name": "python3"
  },
  "language_info": {
   "codemirror_mode": {
    "name": "ipython",
    "version": 3
   },
   "file_extension": ".py",
   "mimetype": "text/x-python",
   "name": "python",
   "nbconvert_exporter": "python",
   "pygments_lexer": "ipython3",
   "version": "3.7.1"
  }
 },
 "nbformat": 4,
 "nbformat_minor": 2
}
